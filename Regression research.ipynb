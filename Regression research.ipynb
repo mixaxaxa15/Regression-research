{
 "cells": [
  {
   "cell_type": "code",
   "execution_count": 2,
   "metadata": {
    "id": "RI_eoe063VaP"
   },
   "outputs": [],
   "source": [
    "import torch\n",
    "from torch import nn\n",
    "import torch.nn.functional as F\n",
    "import pandas as pd\n",
    "import numpy as np\n",
    "import random\n",
    "device = \"cuda\" if torch.cuda.is_available() else \"cpu\"\n",
    "from tqdm.notebook import tqdm\n",
    "from IPython.display import clear_output\n",
    "import matplotlib.pyplot as plt"
   ]
  },
  {
   "cell_type": "code",
   "execution_count": 4,
   "metadata": {
    "id": "DSVJZzkJ7zZE",
    "outputId": "488c6de3-e897-463b-945e-a6752c113f63",
    "scrolled": true
   },
   "outputs": [
    {
     "data": {
      "text/html": [
       "<div>\n",
       "<style scoped>\n",
       "    .dataframe tbody tr th:only-of-type {\n",
       "        vertical-align: middle;\n",
       "    }\n",
       "\n",
       "    .dataframe tbody tr th {\n",
       "        vertical-align: top;\n",
       "    }\n",
       "\n",
       "    .dataframe thead th {\n",
       "        text-align: right;\n",
       "    }\n",
       "</style>\n",
       "<table border=\"1\" class=\"dataframe\">\n",
       "  <thead>\n",
       "    <tr style=\"text-align: right;\">\n",
       "      <th></th>\n",
       "      <th>0</th>\n",
       "      <th>1</th>\n",
       "      <th>2</th>\n",
       "      <th>3</th>\n",
       "      <th>4</th>\n",
       "      <th>5</th>\n",
       "      <th>6</th>\n",
       "      <th>7</th>\n",
       "      <th>8</th>\n",
       "      <th>9</th>\n",
       "      <th>...</th>\n",
       "      <th>81</th>\n",
       "      <th>82</th>\n",
       "      <th>83</th>\n",
       "      <th>84</th>\n",
       "      <th>85</th>\n",
       "      <th>86</th>\n",
       "      <th>87</th>\n",
       "      <th>88</th>\n",
       "      <th>89</th>\n",
       "      <th>90</th>\n",
       "    </tr>\n",
       "  </thead>\n",
       "  <tbody>\n",
       "    <tr>\n",
       "      <th>0</th>\n",
       "      <td>2001</td>\n",
       "      <td>49.94357</td>\n",
       "      <td>21.47114</td>\n",
       "      <td>73.07750</td>\n",
       "      <td>8.74861</td>\n",
       "      <td>-17.40628</td>\n",
       "      <td>-13.09905</td>\n",
       "      <td>-25.01202</td>\n",
       "      <td>-12.23257</td>\n",
       "      <td>7.83089</td>\n",
       "      <td>...</td>\n",
       "      <td>13.01620</td>\n",
       "      <td>-54.40548</td>\n",
       "      <td>58.99367</td>\n",
       "      <td>15.37344</td>\n",
       "      <td>1.11144</td>\n",
       "      <td>-23.08793</td>\n",
       "      <td>68.40795</td>\n",
       "      <td>-1.82223</td>\n",
       "      <td>-27.46348</td>\n",
       "      <td>2.26327</td>\n",
       "    </tr>\n",
       "    <tr>\n",
       "      <th>1</th>\n",
       "      <td>2001</td>\n",
       "      <td>48.73215</td>\n",
       "      <td>18.42930</td>\n",
       "      <td>70.32679</td>\n",
       "      <td>12.94636</td>\n",
       "      <td>-10.32437</td>\n",
       "      <td>-24.83777</td>\n",
       "      <td>8.76630</td>\n",
       "      <td>-0.92019</td>\n",
       "      <td>18.76548</td>\n",
       "      <td>...</td>\n",
       "      <td>5.66812</td>\n",
       "      <td>-19.68073</td>\n",
       "      <td>33.04964</td>\n",
       "      <td>42.87836</td>\n",
       "      <td>-9.90378</td>\n",
       "      <td>-32.22788</td>\n",
       "      <td>70.49388</td>\n",
       "      <td>12.04941</td>\n",
       "      <td>58.43453</td>\n",
       "      <td>26.92061</td>\n",
       "    </tr>\n",
       "    <tr>\n",
       "      <th>2</th>\n",
       "      <td>2001</td>\n",
       "      <td>50.95714</td>\n",
       "      <td>31.85602</td>\n",
       "      <td>55.81851</td>\n",
       "      <td>13.41693</td>\n",
       "      <td>-6.57898</td>\n",
       "      <td>-18.54940</td>\n",
       "      <td>-3.27872</td>\n",
       "      <td>-2.35035</td>\n",
       "      <td>16.07017</td>\n",
       "      <td>...</td>\n",
       "      <td>3.03800</td>\n",
       "      <td>26.05866</td>\n",
       "      <td>-50.92779</td>\n",
       "      <td>10.93792</td>\n",
       "      <td>-0.07568</td>\n",
       "      <td>43.20130</td>\n",
       "      <td>-115.00698</td>\n",
       "      <td>-0.05859</td>\n",
       "      <td>39.67068</td>\n",
       "      <td>-0.66345</td>\n",
       "    </tr>\n",
       "    <tr>\n",
       "      <th>3</th>\n",
       "      <td>2001</td>\n",
       "      <td>48.24750</td>\n",
       "      <td>-1.89837</td>\n",
       "      <td>36.29772</td>\n",
       "      <td>2.58776</td>\n",
       "      <td>0.97170</td>\n",
       "      <td>-26.21683</td>\n",
       "      <td>5.05097</td>\n",
       "      <td>-10.34124</td>\n",
       "      <td>3.55005</td>\n",
       "      <td>...</td>\n",
       "      <td>34.57337</td>\n",
       "      <td>-171.70734</td>\n",
       "      <td>-16.96705</td>\n",
       "      <td>-46.67617</td>\n",
       "      <td>-12.51516</td>\n",
       "      <td>82.58061</td>\n",
       "      <td>-72.08993</td>\n",
       "      <td>9.90558</td>\n",
       "      <td>199.62971</td>\n",
       "      <td>18.85382</td>\n",
       "    </tr>\n",
       "    <tr>\n",
       "      <th>4</th>\n",
       "      <td>2001</td>\n",
       "      <td>50.97020</td>\n",
       "      <td>42.20998</td>\n",
       "      <td>67.09964</td>\n",
       "      <td>8.46791</td>\n",
       "      <td>-15.85279</td>\n",
       "      <td>-16.81409</td>\n",
       "      <td>-12.48207</td>\n",
       "      <td>-9.37636</td>\n",
       "      <td>12.63699</td>\n",
       "      <td>...</td>\n",
       "      <td>9.92661</td>\n",
       "      <td>-55.95724</td>\n",
       "      <td>64.92712</td>\n",
       "      <td>-17.72522</td>\n",
       "      <td>-1.49237</td>\n",
       "      <td>-7.50035</td>\n",
       "      <td>51.76631</td>\n",
       "      <td>7.88713</td>\n",
       "      <td>55.66926</td>\n",
       "      <td>28.74903</td>\n",
       "    </tr>\n",
       "  </tbody>\n",
       "</table>\n",
       "<p>5 rows × 91 columns</p>\n",
       "</div>"
      ],
      "text/plain": [
       "     0         1         2         3         4         5         6         7   \\\n",
       "0  2001  49.94357  21.47114  73.07750   8.74861 -17.40628 -13.09905 -25.01202   \n",
       "1  2001  48.73215  18.42930  70.32679  12.94636 -10.32437 -24.83777   8.76630   \n",
       "2  2001  50.95714  31.85602  55.81851  13.41693  -6.57898 -18.54940  -3.27872   \n",
       "3  2001  48.24750  -1.89837  36.29772   2.58776   0.97170 -26.21683   5.05097   \n",
       "4  2001  50.97020  42.20998  67.09964   8.46791 -15.85279 -16.81409 -12.48207   \n",
       "\n",
       "         8         9   ...        81         82        83        84        85  \\\n",
       "0 -12.23257   7.83089  ...  13.01620  -54.40548  58.99367  15.37344   1.11144   \n",
       "1  -0.92019  18.76548  ...   5.66812  -19.68073  33.04964  42.87836  -9.90378   \n",
       "2  -2.35035  16.07017  ...   3.03800   26.05866 -50.92779  10.93792  -0.07568   \n",
       "3 -10.34124   3.55005  ...  34.57337 -171.70734 -16.96705 -46.67617 -12.51516   \n",
       "4  -9.37636  12.63699  ...   9.92661  -55.95724  64.92712 -17.72522  -1.49237   \n",
       "\n",
       "         86         87        88         89        90  \n",
       "0 -23.08793   68.40795  -1.82223  -27.46348   2.26327  \n",
       "1 -32.22788   70.49388  12.04941   58.43453  26.92061  \n",
       "2  43.20130 -115.00698  -0.05859   39.67068  -0.66345  \n",
       "3  82.58061  -72.08993   9.90558  199.62971  18.85382  \n",
       "4  -7.50035   51.76631   7.88713   55.66926  28.74903  \n",
       "\n",
       "[5 rows x 91 columns]"
      ]
     },
     "execution_count": 4,
     "metadata": {},
     "output_type": "execute_result"
    }
   ],
   "source": [
    "df = pd.read_csv('data.txt.zip', header=None)\n",
    "df.head()"
   ]
  },
  {
   "cell_type": "markdown",
   "metadata": {
    "id": "N9a-eJUG35C3"
   },
   "source": [
    "Мы вывели кусок данных, чтобы понять, насколько они пригодны для работы без изменений. Здесь ясно, что сомнительно дальше с такими данными работать, потому что как минимум есть отрицательные значения, которые не отмасштабированы, кроме того еще сразу бросается в глаза совсем разная размерность, где-то видим реально большие числа, а где-то 0.075. Ясно, что будем скейлить."
   ]
  },
  {
   "cell_type": "code",
   "execution_count": 5,
   "metadata": {
    "id": "n4wnRJT1778j"
   },
   "outputs": [],
   "source": [
    "X = df.iloc[:, 1:].values\n",
    "y = df.iloc[:, 0].values\n",
    "\n",
    "train_size = 463715\n",
    "X_train = X[:train_size, :]\n",
    "y_train = y[:train_size]\n",
    "X_test = X[train_size:, :]\n",
    "y_test = y[train_size:]"
   ]
  },
  {
   "cell_type": "markdown",
   "metadata": {
    "id": "_386JE_o5gOd"
   },
   "source": [
    "## Ridge\n",
    "\n",
    "Мы будем использовать RMSE как метрику качества. Для самого первого бейзлайна обучим `Ridge` регрессию из `sklearn`.\n",
    "\n"
   ]
  },
  {
   "cell_type": "code",
   "execution_count": 6,
   "metadata": {
    "id": "1kV-kCVs8Aju"
   },
   "outputs": [],
   "source": [
    "from sklearn.preprocessing import StandardScaler\n",
    "\n",
    "scaler = StandardScaler()"
   ]
  },
  {
   "cell_type": "code",
   "execution_count": 7,
   "metadata": {
    "id": "lkfkXylb8U-O"
   },
   "outputs": [],
   "source": [
    "def set_random_seed(seed):\n",
    "    torch.backends.cudnn.deterministic = True\n",
    "    torch.backends.cudnn.benchmark = False\n",
    "    torch.manual_seed(seed)\n",
    "    torch.cuda.manual_seed(seed)\n",
    "    np.random.seed(seed)\n",
    "    random.seed(seed)\n",
    "    if torch.cuda.is_available():\n",
    "        torch.cuda.manual_seed_all(seed)"
   ]
  },
  {
   "cell_type": "code",
   "execution_count": 8,
   "metadata": {
    "id": "GKVVatBw8cH7"
   },
   "outputs": [],
   "source": [
    "set_random_seed(4567)"
   ]
  },
  {
   "cell_type": "code",
   "execution_count": 9,
   "metadata": {
    "id": "uv7qthu935C4"
   },
   "outputs": [
    {
     "name": "stdout",
     "output_type": "stream",
     "text": [
      "9.510160711373397\n"
     ]
    }
   ],
   "source": [
    "from sklearn.linear_model import Ridge\n",
    "from sklearn.metrics import mean_squared_error\n",
    "\n",
    "model = Ridge(random_state = 125)\n",
    "model.fit(X_train, y_train)\n",
    "prediction = model.predict(X_test)\n",
    "rmse = mean_squared_error(y_test, prediction)**(0.5)\n",
    "print(rmse)"
   ]
  },
  {
   "cell_type": "code",
   "execution_count": 10,
   "metadata": {
    "id": "kOcFuy1P35C4"
   },
   "outputs": [
    {
     "name": "stdout",
     "output_type": "stream",
     "text": [
      "10.8523584464736\n"
     ]
    }
   ],
   "source": [
    "y_mean = np.array(pd.Series(y.mean(), index=np.arange(len(y_test))))\n",
    "rmse_best = mean_squared_error(y_test, y_mean)**(0.5)\n",
    "print(rmse_best)"
   ]
  },
  {
   "cell_type": "markdown",
   "metadata": {
    "id": "BDHAnIkS8vNY"
   },
   "source": [
    "## Linear Regression network\n",
    "1. Создадим модель линейной регрессии, которая будет состоять только из одного Linear слоя.\n",
    "2. Напишите цикл обучения линейной регрессии. В нем сами реализуем подсчет функции потерь, сделайте шаг градиентного спуска. \n",
    "3. Запусстим обучение на 10 эпохах, и посмотрим значение целевой метрики на тестовой выборке.\n",
    "4. Выведем на экран графики метрики и значения функции потерь на тестовой и обучающей выборке."
   ]
  },
  {
   "cell_type": "code",
   "execution_count": 11,
   "metadata": {},
   "outputs": [],
   "source": [
    "class SGD:\n",
    "    def __init__(self, parameters, learning_rate=0.001):\n",
    "        self.parameters = parameters\n",
    "        self.learning_rate = learning_rate\n",
    "\n",
    "    def step(self):\n",
    "        for param in self.parameters:\n",
    "            param.data -= self.learning_rate * param.grad.data\n",
    "\n",
    "    def zero_grad(self):\n",
    "        for p in self.parameters:\n",
    "            p.grad = None\n"
   ]
  },
  {
   "cell_type": "code",
   "execution_count": 12,
   "metadata": {
    "id": "LxnT6G1J-apf"
   },
   "outputs": [],
   "source": [
    "# ⸂⸂⸜(രᴗര๑)⸝⸃⸃ Good luck!\n",
    "class Net(torch.nn.Module):\n",
    "    def __init__(self, input_neirons):\n",
    "        super(Net, self).__init__()\n",
    "        self.fc1 = torch.nn.Linear(input_neirons, 1)\n",
    "\n",
    "    def forward(self, x):\n",
    "        x = self.fc1(x)\n",
    "        return x\n",
    "\n",
    "model = Net(90)\n",
    "optimizer = SGD(model.parameters(), learning_rate=0.005)"
   ]
  },
  {
   "cell_type": "code",
   "execution_count": 13,
   "metadata": {},
   "outputs": [],
   "source": [
    "def rmse(act, pred):\n",
    "    diff = pred - act\n",
    "    differences_squared = diff ** 2\n",
    "    mean_diff = differences_squared.mean()\n",
    "    return mean_diff**(0.5)"
   ]
  },
  {
   "cell_type": "code",
   "execution_count": 14,
   "metadata": {},
   "outputs": [],
   "source": [
    "X_train_tensor = torch.from_numpy(X_train)\n",
    "y_train_tensor = torch.from_numpy(y_train)\n",
    "X_test_tensor = torch.from_numpy(X_test)\n",
    "y_test_tensor = torch.from_numpy(y_test)\n",
    "\n",
    "X_train_tensor = X_train_tensor.to(torch.float32)\n",
    "X_test_tensor = X_test_tensor.to(torch.float32)\n",
    "y_train_tensor = y_train_tensor.to(torch.float32)\n",
    "y_test_tensor = y_test_tensor.to(torch.float32)"
   ]
  },
  {
   "cell_type": "code",
   "execution_count": 15,
   "metadata": {},
   "outputs": [],
   "source": [
    "train_set = torch.utils.data.TensorDataset(X_train_tensor, y_train_tensor)\n",
    "test_set = torch.utils.data.TensorDataset(X_test_tensor, y_test_tensor)"
   ]
  },
  {
   "cell_type": "code",
   "execution_count": 16,
   "metadata": {},
   "outputs": [],
   "source": [
    "train_dataloader = torch.utils.data.DataLoader(\n",
    "    train_set, batch_size=128, shuffle=True\n",
    ")\n",
    "\n",
    "val_dataloader = torch.utils.data.DataLoader(\n",
    "    test_set, batch_size=128, shuffle=False\n",
    ")\n",
    "#размер батча в 128 оказался наиболее оптимальным при обучении"
   ]
  },
  {
   "cell_type": "code",
   "execution_count": 17,
   "metadata": {},
   "outputs": [
    {
     "data": {
      "application/vnd.jupyter.widget-view+json": {
       "model_id": "7b1c66a1dccc464e9e192fa820a727e9",
       "version_major": 2,
       "version_minor": 0
      },
      "text/plain": [
       "Эпоха 1 - train:   0%|          | 0/3623 [00:00<?, ?it/s]"
      ]
     },
     "metadata": {},
     "output_type": "display_data"
    },
    {
     "data": {
      "application/vnd.jupyter.widget-view+json": {
       "model_id": "d1814ab1b57f41ce933478cc49064f17",
       "version_major": 2,
       "version_minor": 0
      },
      "text/plain": [
       "Эпоха 1 - test:   0%|          | 0/404 [00:00<?, ?it/s]"
      ]
     },
     "metadata": {},
     "output_type": "display_data"
    },
    {
     "name": "stdout",
     "output_type": "stream",
     "text": [
      "Эпоха 1, train loss: 1960.1335034792903, test loss: 1959.3589024307705\n"
     ]
    },
    {
     "data": {
      "image/png": "[encoded data removed]",
      "text/plain": [
       "<Figure size 640x480 with 1 Axes>"
      ]
     },
     "metadata": {},
     "output_type": "display_data"
    },
    {
     "data": {
      "application/vnd.jupyter.widget-view+json": {
       "model_id": "0b6233bec1df416aa8d8ecbcb4ca784c",
       "version_major": 2,
       "version_minor": 0
      },
      "text/plain": [
       "Эпоха 2 - train:   0%|          | 0/3623 [00:00<?, ?it/s]"
      ]
     },
     "metadata": {},
     "output_type": "display_data"
    },
    {
     "data": {
      "application/vnd.jupyter.widget-view+json": {
       "model_id": "74713a09e0c54bdda2be1fc05869c3bb",
       "version_major": 2,
       "version_minor": 0
      },
      "text/plain": [
       "Эпоха 2 - test:   0%|          | 0/404 [00:00<?, ?it/s]"
      ]
     },
     "metadata": {},
     "output_type": "display_data"
    },
    {
     "name": "stdout",
     "output_type": "stream",
     "text": [
      "Эпоха 2, train loss: 1960.132363774518, test loss: 1959.3589024307705\n"
     ]
    },
    {
     "data": {
      "image/png": "[encoded data removed]",
      "text/plain": [
       "<Figure size 640x480 with 1 Axes>"
      ]
     },
     "metadata": {},
     "output_type": "display_data"
    },
    {
     "data": {
      "application/vnd.jupyter.widget-view+json": {
       "model_id": "d53317bed51c4875a557cb0ce9945a9d",
       "version_major": 2,
       "version_minor": 0
      },
      "text/plain": [
       "Эпоха 3 - train:   0%|          | 0/3623 [00:00<?, ?it/s]"
      ]
     },
     "metadata": {},
     "output_type": "display_data"
    },
    {
     "data": {
      "application/vnd.jupyter.widget-view+json": {
       "model_id": "7b907b69415948a6863f5e006e9f9c02",
       "version_major": 2,
       "version_minor": 0
      },
      "text/plain": [
       "Эпоха 3 - test:   0%|          | 0/404 [00:00<?, ?it/s]"
      ]
     },
     "metadata": {},
     "output_type": "display_data"
    },
    {
     "name": "stdout",
     "output_type": "stream",
     "text": [
      "Эпоха 3, train loss: 1960.1328661058149, test loss: 1959.3589024307705\n"
     ]
    },
    {
     "data": {
      "image/png": "[encoded data removed]",
      "text/plain": [
       "<Figure size 640x480 with 1 Axes>"
      ]
     },
     "metadata": {},
     "output_type": "display_data"
    },
    {
     "data": {
      "application/vnd.jupyter.widget-view+json": {
       "model_id": "556207bd30bc4384866cd2e1087fe4a0",
       "version_major": 2,
       "version_minor": 0
      },
      "text/plain": [
       "Эпоха 4 - train:   0%|          | 0/3623 [00:00<?, ?it/s]"
      ]
     },
     "metadata": {},
     "output_type": "display_data"
    },
    {
     "data": {
      "application/vnd.jupyter.widget-view+json": {
       "model_id": "6c201a7c7ab9439388685c07b556c085",
       "version_major": 2,
       "version_minor": 0
      },
      "text/plain": [
       "Эпоха 4 - test:   0%|          | 0/404 [00:00<?, ?it/s]"
      ]
     },
     "metadata": {},
     "output_type": "display_data"
    },
    {
     "name": "stdout",
     "output_type": "stream",
     "text": [
      "Эпоха 4, train loss: 1960.1358285430647, test loss: 1959.3589024307705\n"
     ]
    },
    {
     "data": {
      "image/png": "[encoded data removed]",
      "text/plain": [
       "<Figure size 640x480 with 1 Axes>"
      ]
     },
     "metadata": {},
     "output_type": "display_data"
    },
    {
     "data": {
      "application/vnd.jupyter.widget-view+json": {
       "model_id": "e3bc80fa30394ad7b5650df9d1e89e3e",
       "version_major": 2,
       "version_minor": 0
      },
      "text/plain": [
       "Эпоха 5 - train:   0%|          | 0/3623 [00:00<?, ?it/s]"
      ]
     },
     "metadata": {},
     "output_type": "display_data"
    },
    {
     "data": {
      "application/vnd.jupyter.widget-view+json": {
       "model_id": "6c1c8180efcb4c079a9b696ae7c21801",
       "version_major": 2,
       "version_minor": 0
      },
      "text/plain": [
       "Эпоха 5 - test:   0%|          | 0/404 [00:00<?, ?it/s]"
      ]
     },
     "metadata": {},
     "output_type": "display_data"
    },
    {
     "name": "stdout",
     "output_type": "stream",
     "text": [
      "Эпоха 5, train loss: 1960.1339230264973, test loss: 1959.3589024307705\n"
     ]
    },
    {
     "data": {
      "image/png": "[encoded data removed]",
      "text/plain": [
       "<Figure size 640x480 with 1 Axes>"
      ]
     },
     "metadata": {},
     "output_type": "display_data"
    },
    {
     "data": {
      "application/vnd.jupyter.widget-view+json": {
       "model_id": "622e5cd7fa1a49ae8fa3f59294faf252",
       "version_major": 2,
       "version_minor": 0
      },
      "text/plain": [
       "Эпоха 6 - train:   0%|          | 0/3623 [00:00<?, ?it/s]"
      ]
     },
     "metadata": {},
     "output_type": "display_data"
    },
    {
     "data": {
      "application/vnd.jupyter.widget-view+json": {
       "model_id": "5df09a15a3074708a0998903578372ed",
       "version_major": 2,
       "version_minor": 0
      },
      "text/plain": [
       "Эпоха 6 - test:   0%|          | 0/404 [00:00<?, ?it/s]"
      ]
     },
     "metadata": {},
     "output_type": "display_data"
    },
    {
     "name": "stdout",
     "output_type": "stream",
     "text": [
      "Эпоха 6, train loss: 1960.133080259529, test loss: 1959.3589024307705\n"
     ]
    },
    {
     "data": {
      "image/png": "[encoded data removed]",
      "text/plain": [
       "<Figure size 640x480 with 1 Axes>"
      ]
     },
     "metadata": {},
     "output_type": "display_data"
    },
    {
     "data": {
      "application/vnd.jupyter.widget-view+json": {
       "model_id": "8af4b28561074558b2a64916bc2a168e",
       "version_major": 2,
       "version_minor": 0
      },
      "text/plain": [
       "Эпоха 7 - train:   0%|          | 0/3623 [00:00<?, ?it/s]"
      ]
     },
     "metadata": {},
     "output_type": "display_data"
    },
    {
     "data": {
      "application/vnd.jupyter.widget-view+json": {
       "model_id": "4509e07381404b428646257d71976ba2",
       "version_major": 2,
       "version_minor": 0
      },
      "text/plain": [
       "Эпоха 7 - test:   0%|          | 0/404 [00:00<?, ?it/s]"
      ]
     },
     "metadata": {},
     "output_type": "display_data"
    },
    {
     "name": "stdout",
     "output_type": "stream",
     "text": [
      "Эпоха 7, train loss: 1960.1340269698908, test loss: 1959.3589024307705\n"
     ]
    },
    {
     "data": {
      "image/png": "[encoded data removed]",
      "text/plain": [
       "<Figure size 640x480 with 1 Axes>"
      ]
     },
     "metadata": {},
     "output_type": "display_data"
    },
    {
     "data": {
      "application/vnd.jupyter.widget-view+json": {
       "model_id": "d0cb4b33df074c26a873a89699ac1377",
       "version_major": 2,
       "version_minor": 0
      },
      "text/plain": [
       "Эпоха 8 - train:   0%|          | 0/3623 [00:00<?, ?it/s]"
      ]
     },
     "metadata": {},
     "output_type": "display_data"
    },
    {
     "data": {
      "application/vnd.jupyter.widget-view+json": {
       "model_id": "9deb073c907146f6aff133413227a208",
       "version_major": 2,
       "version_minor": 0
      },
      "text/plain": [
       "Эпоха 8 - test:   0%|          | 0/404 [00:00<?, ?it/s]"
      ]
     },
     "metadata": {},
     "output_type": "display_data"
    },
    {
     "name": "stdout",
     "output_type": "stream",
     "text": [
      "Эпоха 8, train loss: 1960.1336595123064, test loss: 1959.3589024307705\n"
     ]
    },
    {
     "data": {
      "image/png": "[encoded data removed]",
      "text/plain": [
       "<Figure size 640x480 with 1 Axes>"
      ]
     },
     "metadata": {},
     "output_type": "display_data"
    },
    {
     "data": {
      "application/vnd.jupyter.widget-view+json": {
       "model_id": "09f0f9dfdeb44efc91074897088dd818",
       "version_major": 2,
       "version_minor": 0
      },
      "text/plain": [
       "Эпоха 9 - train:   0%|          | 0/3623 [00:00<?, ?it/s]"
      ]
     },
     "metadata": {},
     "output_type": "display_data"
    },
    {
     "data": {
      "application/vnd.jupyter.widget-view+json": {
       "model_id": "c31e63a4f97c4e0880bfe5821bc87bd2",
       "version_major": 2,
       "version_minor": 0
      },
      "text/plain": [
       "Эпоха 9 - test:   0%|          | 0/404 [00:00<?, ?it/s]"
      ]
     },
     "metadata": {},
     "output_type": "display_data"
    },
    {
     "name": "stdout",
     "output_type": "stream",
     "text": [
      "Эпоха 9, train loss: 1960.1321472959758, test loss: 1959.3589024307705\n"
     ]
    },
    {
     "data": {
      "image/png": "[encoded data removed]",
      "text/plain": [
       "<Figure size 640x480 with 1 Axes>"
      ]
     },
     "metadata": {},
     "output_type": "display_data"
    },
    {
     "data": {
      "application/vnd.jupyter.widget-view+json": {
       "model_id": "0b55660fc1f84ca596627e6a0f069a0a",
       "version_major": 2,
       "version_minor": 0
      },
      "text/plain": [
       "Эпоха 10 - train:   0%|          | 0/3623 [00:00<?, ?it/s]"
      ]
     },
     "metadata": {},
     "output_type": "display_data"
    },
    {
     "data": {
      "application/vnd.jupyter.widget-view+json": {
       "model_id": "d7a1b51a32454859833ff2bf407f63e1",
       "version_major": 2,
       "version_minor": 0
      },
      "text/plain": [
       "Эпоха 10 - test:   0%|          | 0/404 [00:00<?, ?it/s]"
      ]
     },
     "metadata": {},
     "output_type": "display_data"
    },
    {
     "name": "stdout",
     "output_type": "stream",
     "text": [
      "Эпоха 10, train loss: 1960.1333019942037, test loss: 1959.3589024307705\n",
      "\n",
      "Min Loss\n",
      "Train: 1960.1321472959758\tTest: 1959.3589024307705\n"
     ]
    }
   ],
   "source": [
    "arr_val_loss = []\n",
    "arr_learn_loss = []\n",
    "ep = []\n",
    "for epoch in range(10):\n",
    "    model.train()\n",
    "    if len(ep) > 0:\n",
    "        fig, axs = plt.subplots()\n",
    "        axs.plot(ep, arr_val_loss, 'ro-', label='Test')\n",
    "        axs.plot(ep, arr_learn_loss, 'go-', label='Train')\n",
    "        axs.set_xlabel(\"Эпоха\", fontsize=15, color='blue')\n",
    "        axs.set_ylabel(\"Loss\", fontsize=15, color='orange')\n",
    "        axs.legend()\n",
    "        plt.show()\n",
    "        \n",
    "    loss_learn = []\n",
    "    for x_train, y_train in tqdm(train_dataloader, desc=f'Эпоха {epoch+1} - train'):         \n",
    "        optimizer.zero_grad()\n",
    "        y_pred = model.forward(x_train)\n",
    "        y_train = y_train.unsqueeze(1)\n",
    "        assert y_pred.shape == y_train.shape\n",
    "        loss = rmse(y_pred, y_train)\n",
    "        loss_learn.append(loss.detach().numpy().flatten().tolist())\n",
    "        loss.backward()\n",
    "        optimizer.step()\n",
    "    arr_learn_loss.append(np.array(loss_learn).mean())\n",
    "\n",
    "    model.eval()\n",
    "    val_loss = []  \n",
    "    with torch.no_grad():  \n",
    "        for x_val, y_val in tqdm(val_dataloader, desc=f'Эпоха {epoch+1} - test'): \n",
    "            y_pred_val = model.forward(x_val)\n",
    "            y_val = y_val.unsqueeze(1)\n",
    "            assert y_pred_val.shape == y_val.shape\n",
    "            loss = rmse(y_val, y_pred_val)\n",
    "            val_loss.append(loss.detach().numpy().flatten().tolist())\n",
    "    arr_val_loss.append(np.array(val_loss).mean())       \n",
    "    \n",
    "    ep.append(len(ep)+1)\n",
    "\n",
    "    print(f'Эпоха {epoch+1}, train loss: {np.array(loss_learn).mean()}, test loss: {np.array(val_loss).mean()}')\n",
    "\n",
    "    \n",
    "print(f'\\nMin Loss\\nTrain: {min(arr_learn_loss)}\\tTest: {min(arr_val_loss)}')"
   ]
  },
  {
   "cell_type": "markdown",
   "metadata": {
    "id": "_6ilBKYt6OdD"
   },
   "source": [
    "## Real network\n",
    "\n",
    "Обучим полносвязную нейросеть, чтобы посмотреть, как она справится с даннрй задачей\n",
    "\n"
   ]
  },
  {
   "cell_type": "markdown",
   "metadata": {},
   "source": [
    "Использую relu активатор, dropout: 0.1, adam оптимизатор с 0.05 lr, 0.05 wd."
   ]
  },
  {
   "cell_type": "code",
   "execution_count": 18,
   "metadata": {
    "id": "ZglNls8l-1VZ"
   },
   "outputs": [],
   "source": [
    "# class Net0(nn.Module):\n",
    "#     def __init__(self, input_size):\n",
    "#         super(Net0, self).__init__()\n",
    "\n",
    "#         self.norm_1 = nn.BatchNorm1d(400)\n",
    "#         self.lr1 = nn.Linear(input_size, 400, bias=False)\n",
    "#         self.act_1 = nn.ReLU()\n",
    "\n",
    "#         self.lr2 = nn.Linear(400, 300, bias=False)\n",
    "#         self.act_2 = nn.ReLU()\n",
    "\n",
    "#         self.lr3 = nn.Linear(300, 240, bias=False)\n",
    "#         self.act_3 = nn.ReLU()\n",
    "\n",
    "#         self.lr4 = nn.Linear(240, 180, bias=False)\n",
    "#         self.act_4= nn.ReLU()\n",
    "        \n",
    "#         self.lr5 = nn.Linear(180, 120, bias=False)\n",
    "#         self.act_5= nn.ReLU()\n",
    "        \n",
    "#         self.lr6 = nn.Linear(120, 90, bias=False)\n",
    "#         self.act_6= nn.ReLU()\n",
    "        \n",
    "#         self.lr7 = nn.Linear(90, 40, bias=False)\n",
    "#         self.act_7= nn.ReLU()\n",
    "\n",
    "#         self.dropout = nn.Dropout(0.1)\n",
    "#         self.lr8 = nn.Linear(40, 1, bias=False)\n",
    "\n",
    "#     def forward(self, x):\n",
    "#         x = self.act_1(self.norm_1(self.lr1(x)))\n",
    "#         x = self.dropout(x)\n",
    "\n",
    "#         x = self.act_2(self.lr2(x))\n",
    "#         x = self.dropout(x)\n",
    "\n",
    "#         x = self.act_3(self.lr3(x))\n",
    "#         x = self.dropout(x)\n",
    "\n",
    "#         x = self.act_4(self.lr4(x))\n",
    "#         x = self.dropout(x)\n",
    "        \n",
    "#         x = self.act_5(self.lr5(x))\n",
    "#         x = self.dropout(x)\n",
    "        \n",
    "#         x = self.act_6(self.lr6(x))\n",
    "#         x = self.dropout(x)\n",
    "        \n",
    "#         x = self.act_7(self.lr7(x))\n",
    "#         x = self.dropout(x)\n",
    "        \n",
    "#         x = self.lr8(x)\n",
    "\n",
    "#         return x\n",
    "    \n",
    "# model = Net0(90)\n",
    "# optimizer = torch.optim.Adam(model.parameters(), lr = 0.005, weight_decay=0.005)"
   ]
  },
  {
   "cell_type": "markdown",
   "metadata": {},
   "source": [
    "__Min Loss__\n",
    "\n",
    "Train: 220.702<br>\n",
    "Test: 19.137"
   ]
  },
  {
   "cell_type": "markdown",
   "metadata": {},
   "source": [
    "Лучший loss: 19.137. Loss сильно скачет на тесте, так что попробую нормировать все слои, кроме последнего."
   ]
  },
  {
   "cell_type": "code",
   "execution_count": 19,
   "metadata": {},
   "outputs": [],
   "source": [
    "class Net1(nn.Module):\n",
    "    def __init__(self, input_size):\n",
    "        super(Net1, self).__init__()\n",
    "\n",
    "        self.norm_1 = nn.BatchNorm1d(400)\n",
    "        self.lr1 = nn.Linear(input_size, 400, bias=False)\n",
    "        self.act_1 = nn.ReLU()\n",
    "\n",
    "        self.norm_2 = nn.BatchNorm1d(300)\n",
    "        self.lr2 = nn.Linear(400, 300, bias=False)\n",
    "        self.act_2 = nn.ReLU()\n",
    "\n",
    "        self.norm_3 = nn.BatchNorm1d(240)\n",
    "        self.lr3 = nn.Linear(300, 240, bias=False)\n",
    "        self.act_3 = nn.ReLU()\n",
    "\n",
    "        self.norm_4 = nn.BatchNorm1d(180)\n",
    "        self.lr4 = nn.Linear(240, 180, bias=False)\n",
    "        self.act_4= nn.ReLU()\n",
    "        \n",
    "        self.norm_5 = nn.BatchNorm1d(120)\n",
    "        self.lr5 = nn.Linear(180, 120, bias=False)\n",
    "        self.act_5= nn.ReLU()\n",
    "        \n",
    "        self.norm_6 = nn.BatchNorm1d(90)\n",
    "        self.lr6 = nn.Linear(120, 90, bias=False)\n",
    "        self.act_6= nn.ReLU()\n",
    "        \n",
    "        self.norm_7 = nn.BatchNorm1d(40)\n",
    "        self.lr7 = nn.Linear(90, 40, bias=False)\n",
    "        self.act_7= nn.ReLU()\n",
    "\n",
    "        self.dropout = nn.Dropout(0.1)\n",
    "        self.lr8 = nn.Linear(40, 1, bias=False)\n",
    "\n",
    "    def forward(self, x):\n",
    "        x = self.act_1(self.norm_1(self.lr1(x)))\n",
    "        x = self.dropout(x)\n",
    "\n",
    "#         x = self.act_2(self.lr2(x))\n",
    "        x = self.act_2(self.norm_2(self.lr2(x)))\n",
    "        x = self.dropout(x)\n",
    "\n",
    "#         x = self.act_3(self.lr3(x))\n",
    "        x = self.act_3(self.norm_3(self.lr3(x)))\n",
    "        x = self.dropout(x)\n",
    "\n",
    "#         x = self.act_4(self.lr4(x))\n",
    "        x = self.act_4(self.norm_4(self.lr4(x)))\n",
    "        x = self.dropout(x)\n",
    "        \n",
    "#         x = self.act_5(self.lr5(x))\n",
    "        x = self.act_5(self.norm_5(self.lr5(x)))\n",
    "        x = self.dropout(x)\n",
    "        \n",
    "#         x = self.act_6(self.lr6(x))\n",
    "        x = self.act_6(self.norm_6(self.lr6(x)))\n",
    "        x = self.dropout(x)\n",
    "        \n",
    "#         x = self.act_7(self.lr7(x))\n",
    "        x = self.act_7(self.norm_7(self.lr7(x)))\n",
    "        #x = self.dropout(x) #for v2\n",
    "        \n",
    "        x = self.lr8(x)\n",
    "\n",
    "        return x\n",
    "    \n",
    "model = Net1(90)\n",
    "optimizer = torch.optim.Adam(model.parameters(), lr = 0.005, weight_decay=0.005)"
   ]
  },
  {
   "cell_type": "markdown",
   "metadata": {},
   "source": [
    "__Min Loss__\n",
    "\n",
    "Train: 9.82<br>\n",
    "Test: 8.735"
   ]
  },
  {
   "cell_type": "markdown",
   "metadata": {},
   "source": [
    "Лучший loss: 8.735. Графики стали более плавные. Попробую заменить оптимизатор Adam на SGD."
   ]
  },
  {
   "cell_type": "code",
   "execution_count": 20,
   "metadata": {},
   "outputs": [],
   "source": [
    "# class Net2(nn.Module):\n",
    "#     def __init__(self, input_size):\n",
    "#         super(Net2, self).__init__()\n",
    "\n",
    "#         self.norm_1 = nn.BatchNorm1d(400)\n",
    "#         self.lr1 = nn.Linear(input_size, 400, bias=False)\n",
    "#         self.act_1 = nn.ReLU()\n",
    "\n",
    "#         self.norm_2 = nn.BatchNorm1d(300)\n",
    "#         self.lr2 = nn.Linear(400, 300, bias=False)\n",
    "#         self.act_2 = nn.ReLU()\n",
    "\n",
    "#         self.norm_3 = nn.BatchNorm1d(240)\n",
    "#         self.lr3 = nn.Linear(300, 240, bias=False)\n",
    "#         self.act_3 = nn.ReLU()\n",
    "\n",
    "#         self.norm_4 = nn.BatchNorm1d(180)\n",
    "#         self.lr4 = nn.Linear(240, 180, bias=False)\n",
    "#         self.act_4= nn.ReLU()\n",
    "        \n",
    "#         self.norm_5 = nn.BatchNorm1d(120)\n",
    "#         self.lr5 = nn.Linear(180, 120, bias=False)\n",
    "#         self.act_5= nn.ReLU()\n",
    "        \n",
    "#         self.norm_6 = nn.BatchNorm1d(90)\n",
    "#         self.lr6 = nn.Linear(120, 90, bias=False)\n",
    "#         self.act_6= nn.ReLU()\n",
    "        \n",
    "#         self.norm_7 = nn.BatchNorm1d(40)\n",
    "#         self.lr7 = nn.Linear(90, 40, bias=False)\n",
    "#         self.act_7= nn.ReLU()\n",
    "\n",
    "#         self.dropout = nn.Dropout(0.1)\n",
    "#         self.lr8 = nn.Linear(40, 1, bias=False)\n",
    "\n",
    "#     def forward(self, x):\n",
    "#         x = self.act_1(self.norm_1(self.lr1(x)))\n",
    "#         x = self.dropout(x)\n",
    "\n",
    "# #         x = self.act_2(self.lr2(x))\n",
    "#         x = self.act_2(self.norm_2(self.lr2(x)))\n",
    "#         x = self.dropout(x)\n",
    "\n",
    "# #         x = self.act_3(self.lr3(x))\n",
    "#         x = self.act_3(self.norm_3(self.lr3(x)))\n",
    "#         x = self.dropout(x)\n",
    "\n",
    "# #         x = self.act_4(self.lr4(x))\n",
    "#         x = self.act_4(self.norm_4(self.lr4(x)))\n",
    "#         x = self.dropout(x)\n",
    "        \n",
    "# #         x = self.act_5(self.lr5(x))\n",
    "#         x = self.act_5(self.norm_5(self.lr5(x)))\n",
    "#         x = self.dropout(x)\n",
    "        \n",
    "# #         x = self.act_6(self.lr6(x))\n",
    "#         x = self.act_6(self.norm_6(self.lr6(x)))\n",
    "#         x = self.dropout(x)\n",
    "        \n",
    "# #         x = self.act_7(self.lr7(x))\n",
    "#         x = self.act_7(self.norm_7(self.lr7(x)))\n",
    "        \n",
    "#         x = self.lr8(x)\n",
    "\n",
    "#         return x\n",
    "    \n",
    "    \n",
    "# model = Net2(90)\n",
    "# optimizer = torch.optim.SGD(model.parameters(), lr = 0.005, weight_decay=0.005)"
   ]
  },
  {
   "cell_type": "markdown",
   "metadata": {},
   "source": [
    "__Min Loss__\n",
    "\n",
    "Train: 10.11<br>\n",
    "Test: 9.078"
   ]
  },
  {
   "cell_type": "markdown",
   "metadata": {},
   "source": [
    "Лучший loss: 9.078, стало похуже. Углублю нейросеть на один слой и верну оптимизатор Adam."
   ]
  },
  {
   "cell_type": "code",
   "execution_count": 21,
   "metadata": {},
   "outputs": [],
   "source": [
    "# class Net3(nn.Module):\n",
    "#     def __init__(self, input_size):\n",
    "#         super(Net3, self).__init__()\n",
    "\n",
    "#         self.norm_1 = nn.BatchNorm1d(400)\n",
    "#         self.lr1 = nn.Linear(input_size, 400, bias=False)\n",
    "#         self.act_1 = nn.ReLU()\n",
    "\n",
    "#         self.norm_2 = nn.BatchNorm1d(300)\n",
    "#         self.lr2 = nn.Linear(400, 300, bias=False)\n",
    "#         self.act_2 = nn.ReLU()\n",
    "\n",
    "#         self.norm_3 = nn.BatchNorm1d(240)\n",
    "#         self.lr3 = nn.Linear(300, 240, bias=False)\n",
    "#         self.act_3 = nn.ReLU()\n",
    "\n",
    "#         self.norm_4 = nn.BatchNorm1d(180)\n",
    "#         self.lr4 = nn.Linear(240, 180, bias=False)\n",
    "#         self.act_4= nn.ReLU()\n",
    "        \n",
    "#         self.norm_5 = nn.BatchNorm1d(120)\n",
    "#         self.lr5 = nn.Linear(180, 120, bias=False)\n",
    "#         self.act_5= nn.ReLU()\n",
    "        \n",
    "#         self.norm_6 = nn.BatchNorm1d(90)\n",
    "#         self.lr6 = nn.Linear(120, 90, bias=False)\n",
    "#         self.act_6= nn.ReLU()\n",
    "        \n",
    "#         self.norm_7 = nn.BatchNorm1d(40)\n",
    "#         self.lr7 = nn.Linear(90, 40, bias=False)\n",
    "#         self.act_7= nn.ReLU()\n",
    "        \n",
    "#         self.norm_8 = nn.BatchNorm1d(20)\n",
    "#         self.lr8 = nn.Linear(40, 20, bias=False)\n",
    "#         self.act_8= nn.ReLU()\n",
    "\n",
    "#         self.dropout = nn.Dropout(0.1)\n",
    "#         self.lr9 = nn.Linear(20, 1, bias=False)\n",
    "\n",
    "#     def forward(self, x):\n",
    "#         x = self.act_1(self.norm_1(self.lr1(x)))\n",
    "#         x = self.dropout(x)\n",
    "\n",
    "# #         x = self.act_2(self.lr2(x))\n",
    "#         x = self.act_2(self.norm_2(self.lr2(x)))\n",
    "#         x = self.dropout(x)\n",
    "\n",
    "# #         x = self.act_3(self.lr3(x))\n",
    "#         x = self.act_3(self.norm_3(self.lr3(x)))\n",
    "#         x = self.dropout(x)\n",
    "\n",
    "# #         x = self.act_4(self.lr4(x))\n",
    "#         x = self.act_4(self.norm_4(self.lr4(x)))\n",
    "#         x = self.dropout(x)\n",
    "        \n",
    "# #         x = self.act_5(self.lr5(x))\n",
    "#         x = self.act_5(self.norm_5(self.lr5(x)))\n",
    "#         x = self.dropout(x)\n",
    "        \n",
    "# #         x = self.act_6(self.lr6(x))\n",
    "#         x = self.act_6(self.norm_6(self.lr6(x)))\n",
    "#         x = self.dropout(x)\n",
    "        \n",
    "# #         x = self.act_7(self.lr7(x))\n",
    "#         x = self.act_7(self.norm_7(self.lr7(x)))\n",
    "#         x = self.dropout(x)\n",
    "        \n",
    "#         x = self.act_8(self.norm_8(self.lr8(x)))\n",
    "        \n",
    "#         x = self.lr9(x)\n",
    "\n",
    "#         return x\n",
    "    \n",
    "# model = Net3(90)\n",
    "# optimizer = torch.optim.Adam(model.parameters(), lr = 0.0005, weight_decay=0.005)"
   ]
  },
  {
   "cell_type": "markdown",
   "metadata": {},
   "source": [
    "__Min Loss__\n",
    "\n",
    "Train: 23.007<br>\n",
    "Test: 11.075"
   ]
  },
  {
   "cell_type": "markdown",
   "metadata": {},
   "source": [
    "Лучший loss: 11.075. Заменю активатор на Silu."
   ]
  },
  {
   "cell_type": "code",
   "execution_count": 22,
   "metadata": {},
   "outputs": [],
   "source": [
    "# class Net4(nn.Module):\n",
    "#     def __init__(self, input_size):\n",
    "#         super(Net4, self).__init__()\n",
    "\n",
    "#         self.norm_1 = nn.BatchNorm1d(400)\n",
    "#         self.lr1 = nn.Linear(input_size, 400, bias=False)\n",
    "#         self.act_1 = nn.SiLU()\n",
    "\n",
    "#         self.norm_2 = nn.BatchNorm1d(300)\n",
    "#         self.lr2 = nn.Linear(400, 300, bias=False)\n",
    "#         self.act_2 = nn.SiLU()\n",
    "\n",
    "#         self.norm_3 = nn.BatchNorm1d(240)\n",
    "#         self.lr3 = nn.Linear(300, 240, bias=False)\n",
    "#         self.act_3 = nn.SiLU()\n",
    "\n",
    "#         self.norm_4 = nn.BatchNorm1d(180)\n",
    "#         self.lr4 = nn.Linear(240, 180, bias=False)\n",
    "#         self.act_4= nn.SiLU()\n",
    "        \n",
    "#         self.norm_5 = nn.BatchNorm1d(120)\n",
    "#         self.lr5 = nn.Linear(180, 120, bias=False)\n",
    "#         self.act_5= nn.SiLU()\n",
    "        \n",
    "#         self.norm_6 = nn.BatchNorm1d(90)\n",
    "#         self.lr6 = nn.Linear(120, 90, bias=False)\n",
    "#         self.act_6= nn.SiLU()\n",
    "        \n",
    "#         self.norm_7 = nn.BatchNorm1d(40)\n",
    "#         self.lr7 = nn.Linear(90, 40, bias=False)\n",
    "#         self.act_7= nn.SiLU()\n",
    "        \n",
    "#         self.norm_8 = nn.BatchNorm1d(20)\n",
    "#         self.lr8 = nn.Linear(40, 20, bias=False)\n",
    "#         self.act_8= nn.SiLU()\n",
    "\n",
    "#         self.dropout = nn.Dropout(0.1)\n",
    "#         self.lr9 = nn.Linear(20, 1, bias=False)\n",
    "\n",
    "#     def forward(self, x):\n",
    "#         x = self.act_1(self.norm_1(self.lr1(x)))\n",
    "#         x = self.dropout(x)\n",
    "\n",
    "# #         x = self.act_2(self.lr2(x))\n",
    "#         x = self.act_2(self.norm_2(self.lr2(x)))\n",
    "#         x = self.dropout(x)\n",
    "\n",
    "# #         x = self.act_3(self.lr3(x))\n",
    "#         x = self.act_3(self.norm_3(self.lr3(x)))\n",
    "#         x = self.dropout(x)\n",
    "\n",
    "# #         x = self.act_4(self.lr4(x))\n",
    "#         x = self.act_4(self.norm_4(self.lr4(x)))\n",
    "#         x = self.dropout(x)\n",
    "        \n",
    "# #         x = self.act_5(self.lr5(x))\n",
    "#         x = self.act_5(self.norm_5(self.lr5(x)))\n",
    "#         x = self.dropout(x)\n",
    "        \n",
    "# #         x = self.act_6(self.lr6(x))\n",
    "#         x = self.act_6(self.norm_6(self.lr6(x)))\n",
    "#         x = self.dropout(x)\n",
    "        \n",
    "# #         x = self.act_7(self.lr7(x))\n",
    "#         x = self.act_7(self.norm_7(self.lr7(x)))\n",
    "#         x = self.dropout(x)\n",
    "        \n",
    "#         x = self.act_8(self.norm_8(self.lr8(x)))\n",
    "        \n",
    "#         x = self.lr9(x)\n",
    "\n",
    "#         return x\n",
    "    \n",
    "# model = Net4(90)\n",
    "# optimizer = torch.optim.Adam(model.parameters(), lr = 0.0005, weight_decay=0.005)"
   ]
  },
  {
   "cell_type": "markdown",
   "metadata": {},
   "source": [
    "__Min Loss__\n",
    "\n",
    "Train: 18.355<br>\n",
    "Test: 11.314"
   ]
  },
  {
   "cell_type": "markdown",
   "metadata": {},
   "source": [
    "Лучший лосс: 11.314"
   ]
  },
  {
   "cell_type": "code",
   "execution_count": 23,
   "metadata": {},
   "outputs": [
    {
     "name": "stdout",
     "output_type": "stream",
     "text": [
      "Эпоха: 6\n",
      "Loss Train: 9.829\n",
      "Loss Test: 8.735\n"
     ]
    },
    {
     "data": {
      "image/png": "[encoded data removed]",
      "text/plain": [
       "<Figure size 640x480 with 1 Axes>"
      ]
     },
     "metadata": {},
     "output_type": "display_data"
    },
    {
     "name": "stdout",
     "output_type": "stream",
     "text": [
      "\n",
      "Min Loss\n",
      "Train: 9.829\tTest: 8.735\n"
     ]
    }
   ],
   "source": [
    "arr_val_loss = []\n",
    "arr_learn_loss = []\n",
    "ep = []\n",
    "#mseloss = nn.MSELoss()\n",
    "flag = False\n",
    "max_epoch = 10\n",
    "for epoch in range(max_epoch+1):           \n",
    "        if len(ep) > 0:\n",
    "            fig, axs = plt.subplots()\n",
    "            axs.plot(ep, arr_val_loss, 'ro-', label='Test')\n",
    "            axs.plot(ep, arr_learn_loss, 'go-', label='Train')\n",
    "            axs.set_xlabel(\"Эпоха\", fontsize=15, color='blue')\n",
    "            axs.set_ylabel(\"Loss\", fontsize=15, color='orange')\n",
    "            for i, v in enumerate(arr_val_loss):\n",
    "                if v < 9:\n",
    "                    axs.annotate(str(v), xy=(i+1,v), xytext=(-7,7), textcoords='offset points')\n",
    "            axs.set_ylim(bottom=0)\n",
    "            axs.set_xlim(left=1)\n",
    "            axs.legend()\n",
    "            plt.show()\n",
    "\n",
    "        if flag == True or epoch==max_epoch:\n",
    "            break\n",
    "        loss_learn = []\n",
    "        model.train()\n",
    "\n",
    "        for x_train, y_train in tqdm(train_dataloader, desc=f'Эпоха {epoch+1} - train'):\n",
    "            optimizer.zero_grad()\n",
    "            y_pred = model(x_train)\n",
    "            y_train = y_train.unsqueeze(1)\n",
    "            assert y_pred.shape == y_train.shape\n",
    "            loss = rmse(y_pred, y_train)\n",
    "            loss_learn.append(loss.detach().numpy().flatten().tolist())\n",
    "            loss.backward()\n",
    "            optimizer.step() \n",
    "\n",
    "        val_loss = []\n",
    "        model.eval()\n",
    "        with torch.no_grad(): \n",
    "            for x_val, y_val in tqdm(val_dataloader, desc=f'Эпоха {epoch+1} - test'): \n",
    "                y_pred_val = model(x_val)\n",
    "                y_val = y_val.unsqueeze(1)\n",
    "                assert y_pred_val.shape == y_val.shape\n",
    "                loss = rmse(y_pred_val, y_val)\n",
    "                val_loss.append(loss.detach().numpy().flatten().tolist())\n",
    "            \n",
    "        arr_val_loss.append(round(np.array(val_loss).mean(), 3))\n",
    "        arr_learn_loss.append(round(np.array(loss_learn).mean(), 3))\n",
    "        \n",
    "        ep.append(len(ep)+1)\n",
    "        \n",
    "        clear_output()\n",
    "        if len(arr_val_loss) > 0 and arr_val_loss[-1] < 8.75:\n",
    "            flag = True\n",
    "        if len(ep) > 0:\n",
    "            print(f'Эпоха: {epoch+1}\\nLoss Train: {arr_learn_loss[ep[-1] - 1]}\\nLoss Test: {arr_val_loss[ep[-1] - 1]}')\n",
    "            \n",
    "print(f'\\nMin Loss\\nTrain: {min(arr_learn_loss)}\\tTest: {min(arr_val_loss)}')"
   ]
  }
 ],
 "metadata": {
  "colab": {
   "provenance": []
  },
  "kernelspec": {
   "display_name": "Python 3 (ipykernel)",
   "language": "python",
   "name": "python3"
  },
  "language_info": {
   "codemirror_mode": {
    "name": "ipython",
    "version": 3
   },
   "file_extension": ".py",
   "mimetype": "text/x-python",
   "name": "python",
   "nbconvert_exporter": "python",
   "pygments_lexer": "ipython3",
   "version": "3.10.11"
  }
 },
 "nbformat": 4,
 "nbformat_minor": 1
}
